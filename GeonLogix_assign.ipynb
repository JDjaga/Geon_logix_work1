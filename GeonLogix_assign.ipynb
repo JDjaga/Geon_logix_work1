{
  "cells": [
    {
      "cell_type": "code",
      "execution_count": 1,
      "metadata": {
        "id": "szCo28q12mcb"
      },
      "outputs": [],
      "source": [
        "import numpy as np"
      ]
    },
    {
      "cell_type": "code",
      "execution_count": 2,
      "metadata": {
        "colab": {
          "base_uri": "https://localhost:8080/"
        },
        "id": "5JOdrkjk3wXi",
        "outputId": "40a5c8a3-9078-499b-97e0-01edc4bd2595"
      },
      "outputs": [
        {
          "output_type": "stream",
          "name": "stdout",
          "text": [
            "Single Dimensional Array:\n",
            " [1 2 3 4 5]\n"
          ]
        }
      ],
      "source": [
        "# Single Dimensional Array\n",
        "one_list = [1, 2, 3, 4, 5]\n",
        "one_dim_array = np.array(one_list)\n",
        "print(\"Single Dimensional Array:\\n\", one_dim_array)"
      ]
    },
    {
      "cell_type": "code",
      "execution_count": 3,
      "metadata": {
        "colab": {
          "base_uri": "https://localhost:8080/"
        },
        "id": "CwpLb8883wbD",
        "outputId": "156dbd5b-94ed-4910-fe65-735565840549"
      },
      "outputs": [
        {
          "output_type": "stream",
          "name": "stdout",
          "text": [
            "Multi Dimensional Array:\n",
            " [[1 2 3]\n",
            " [4 5 6]\n",
            " [7 8 9]]\n"
          ]
        }
      ],
      "source": [
        "# Multi Dimensional Array\n",
        "multi_list = [[1, 2, 3], [4, 5, 6], [7, 8, 9]]\n",
        "multi_dim_array = np.array(multi_list)\n",
        "print(\"Multi Dimensional Array:\\n\", multi_dim_array)"
      ]
    },
    {
      "cell_type": "code",
      "execution_count": 4,
      "metadata": {
        "colab": {
          "base_uri": "https://localhost:8080/"
        },
        "id": "WSGbIoHj6SaE",
        "outputId": "99887b8e-5986-420b-cd43-2b554228cc27"
      },
      "outputs": [
        {
          "output_type": "stream",
          "name": "stdout",
          "text": [
            "Multi Dimensional Array (Float):\n",
            " [[1.1 2.2 3.3]\n",
            " [4.4 5.5 6.6]\n",
            " [7.7 8.8 9.9]]\n"
          ]
        }
      ],
      "source": [
        "#Multi Dimensional Array using float\n",
        "multi_dim_list = [[1.1, 2.2, 3.3], [4.4, 5.5, 6.6], [7.7, 8.8, 9.9]]\n",
        "multi_dim_array = np.array(multi_dim_list)\n",
        "print(\"Multi Dimensional Array (Float):\\n\", multi_dim_array)"
      ]
    },
    {
      "cell_type": "code",
      "execution_count": 5,
      "metadata": {
        "colab": {
          "base_uri": "https://localhost:8080/"
        },
        "id": "LVtqG8M24QRo",
        "outputId": "11dffcd3-1016-4de5-f9d5-b4bc4fedf6ea"
      },
      "outputs": [
        {
          "output_type": "stream",
          "name": "stdout",
          "text": [
            "Arange Array:\n",
            " [-11 -10  -9  -8  -7  -6  -5  -4  -3  -2]\n"
          ]
        }
      ],
      "source": [
        "# Using arange\n",
        "arange_array = np.arange(-11,-1)\n",
        "print(\"Arange Array:\\n\", arange_array)"
      ]
    },
    {
      "cell_type": "code",
      "execution_count": 6,
      "metadata": {
        "colab": {
          "base_uri": "https://localhost:8080/"
        },
        "id": "uLaIj-hH6eCR",
        "outputId": "b242216b-49a7-4709-f30c-aa032fe9c698"
      },
      "outputs": [
        {
          "output_type": "stream",
          "name": "stdout",
          "text": [
            "Arange Array (Float):\n",
            " [0. 1. 2. 3. 4. 5. 6. 7. 8. 9.]\n"
          ]
        }
      ],
      "source": [
        "#arange using float values\n",
        "arange_array = np.arange(0.0, 10.0, 1.0)\n",
        "print(\"Arange Array (Float):\\n\", arange_array)"
      ]
    },
    {
      "cell_type": "code",
      "execution_count": 7,
      "metadata": {
        "colab": {
          "base_uri": "https://localhost:8080/"
        },
        "id": "bpF5Ic334Qga",
        "outputId": "34dd07dc-d935-41b4-ebaf-36c23606dcc9"
      },
      "outputs": [
        {
          "output_type": "stream",
          "name": "stdout",
          "text": [
            "Zeroes Array:\n",
            " [[0. 0. 0.]\n",
            " [0. 0. 0.]\n",
            " [0. 0. 0.]]\n"
          ]
        }
      ],
      "source": [
        "# Using zeros\n",
        "zeros_array = np.zeros((3, 3))  # 3x3 array of zeroes\n",
        "print(\"Zeroes Array:\\n\", zeros_array)"
      ]
    },
    {
      "cell_type": "code",
      "execution_count": 8,
      "metadata": {
        "colab": {
          "base_uri": "https://localhost:8080/"
        },
        "id": "Nj5BQSTI4Qlv",
        "outputId": "6cc4b043-6f97-4d12-9598-2288c1e4214b"
      },
      "outputs": [
        {
          "output_type": "stream",
          "name": "stdout",
          "text": [
            "Full Array:\n",
            " [[6 6 6]\n",
            " [6 6 6]\n",
            " [6 6 6]]\n"
          ]
        }
      ],
      "source": [
        "# Using full\n",
        "f_array = np.full((3, 3), 6)  # 3x3 array filled with the value 7\n",
        "print(\"Full Array:\\n\", f_array)"
      ]
    },
    {
      "cell_type": "code",
      "execution_count": 9,
      "metadata": {
        "colab": {
          "base_uri": "https://localhost:8080/"
        },
        "id": "7PyRmsOR5DtU",
        "outputId": "bd85ce5b-f1e2-47ae-dfb6-5e9c766248b0"
      },
      "outputs": [
        {
          "output_type": "stream",
          "name": "stdout",
          "text": [
            "Random Integers Array:\n",
            " [[40 42]\n",
            " [44 28]]\n"
          ]
        }
      ],
      "source": [
        "# Generate an array of random integers\n",
        "random_int = np.random.randint(0, 50, size=(2, 2))\n",
        "print(\"Random Integers Array:\\n\", random_int)"
      ]
    },
    {
      "cell_type": "code",
      "execution_count": 10,
      "metadata": {
        "colab": {
          "base_uri": "https://localhost:8080/"
        },
        "id": "FUYk13fp6rOY",
        "outputId": "2eb73c82-b61e-413e-ef25-82ffec46baad"
      },
      "outputs": [
        {
          "output_type": "stream",
          "name": "stdout",
          "text": [
            "Random Float Array:\n",
            " [[36. 92. 62.]\n",
            " [50. 63. 55.]\n",
            " [85. 81. 24.]]\n"
          ]
        }
      ],
      "source": [
        "# Generate an array of random integers and converting in to float\n",
        "random_integers = np.random.randint(0, 100, size=(3, 3)).astype(float)\n",
        "print(\"Random Float Array:\\n\", random_integers)"
      ]
    },
    {
      "cell_type": "code",
      "execution_count": 11,
      "metadata": {
        "colab": {
          "base_uri": "https://localhost:8080/"
        },
        "id": "5WvD_z6G7ETg",
        "outputId": "2d198d22-511e-41d6-b61c-8e88148c24df"
      },
      "outputs": [
        {
          "output_type": "stream",
          "name": "stdout",
          "text": [
            "Random Boolean Array:\n",
            " [[ True  True  True]\n",
            " [ True  True  True]\n",
            " [ True  True  True]]\n"
          ]
        }
      ],
      "source": [
        "#zero values become False and non-zero values become True\n",
        "random_booleans = random_integers.astype(bool)\n",
        "print(\"Random Boolean Array:\\n\", random_booleans)"
      ]
    },
    {
      "cell_type": "code",
      "execution_count": 12,
      "metadata": {
        "colab": {
          "base_uri": "https://localhost:8080/"
        },
        "id": "-S1AFEpX5Dv3",
        "outputId": "d66c4596-188e-4017-ca73-3fa99b234934"
      },
      "outputs": [
        {
          "output_type": "stream",
          "name": "stdout",
          "text": [
            "Vertical Stack:\n",
            " [[1 2 3]\n",
            " [4 5 6]]\n"
          ]
        }
      ],
      "source": [
        "# Arrays to be stacked\n",
        "array1 = np.array([1, 2, 3])\n",
        "array2 = np.array([4, 5, 6])\n",
        "\n",
        "# Vertical stack\n",
        "vstack_array = np.vstack((array1, array2))\n",
        "print(\"Vertical Stack:\\n\", vstack_array)"
      ]
    },
    {
      "cell_type": "code",
      "execution_count": 13,
      "metadata": {
        "colab": {
          "base_uri": "https://localhost:8080/"
        },
        "id": "LIOO343Y5DyN",
        "outputId": "ed032b5c-c311-40d1-c3a6-c889473480a3"
      },
      "outputs": [
        {
          "output_type": "stream",
          "name": "stdout",
          "text": [
            "Horizontal Stack:\n",
            " [1 2 3 4 5 6]\n"
          ]
        }
      ],
      "source": [
        "# Horizontal stack\n",
        "hstack_array = np.hstack((array1, array2))\n",
        "print(\"Horizontal Stack:\\n\", hstack_array)"
      ]
    },
    {
      "cell_type": "code",
      "execution_count": 14,
      "metadata": {
        "colab": {
          "base_uri": "https://localhost:8080/"
        },
        "id": "KRYfjWdh5rqp",
        "outputId": "9bcecd37-c510-4557-f092-8eb13575c14d"
      },
      "outputs": [
        {
          "output_type": "stream",
          "name": "stdout",
          "text": [
            "Mean: 5.5\n"
          ]
        }
      ],
      "source": [
        "s_array = np.array([1, 2, 3, 4, 5, 6, 7, 8, 9, 10])\n",
        "\n",
        "# Calculating mean\n",
        "mean = np.mean(s_array)\n",
        "print(\"Mean:\", mean)"
      ]
    },
    {
      "cell_type": "code",
      "execution_count": 15,
      "metadata": {
        "colab": {
          "base_uri": "https://localhost:8080/"
        },
        "id": "0ooSqYpq5xW3",
        "outputId": "9322a8be-b966-4833-e0ca-3ba06d8520aa"
      },
      "outputs": [
        {
          "output_type": "stream",
          "name": "stdout",
          "text": [
            "Median: 5.5\n"
          ]
        }
      ],
      "source": [
        "# Calculating median\n",
        "median = np.median(s_array)\n",
        "print(\"Median:\", median)"
      ]
    },
    {
      "cell_type": "code",
      "execution_count": 16,
      "metadata": {
        "colab": {
          "base_uri": "https://localhost:8080/"
        },
        "id": "-4Km2TBB51Nc",
        "outputId": "4af9bc5d-32e4-4466-eda7-773cbcef6927"
      },
      "outputs": [
        {
          "output_type": "stream",
          "name": "stdout",
          "text": [
            "Standard Deviation: 2.8722813232690143\n"
          ]
        }
      ],
      "source": [
        "# Calculating standard deviation\n",
        "std_deviation = np.std(s_array)\n",
        "print(\"Standard Deviation:\", std_deviation)"
      ]
    },
    {
      "cell_type": "markdown",
      "metadata": {
        "id": "f09fqzGF6KDu"
      },
      "source": [
        "PANDAS"
      ]
    },
    {
      "cell_type": "code",
      "execution_count": 17,
      "metadata": {
        "colab": {
          "base_uri": "https://localhost:8080/"
        },
        "id": "NFK00VBz6FTa",
        "outputId": "2e39bcb4-972e-451f-eb20-76da43db50a8"
      },
      "outputs": [
        {
          "output_type": "stream",
          "name": "stdout",
          "text": [
            "Series from list:\n",
            " G    10\n",
            "E    20\n",
            "O    30\n",
            "N    40\n",
            "dtype: int64\n"
          ]
        }
      ],
      "source": [
        "import pandas as pd\n",
        "\n",
        "# Creating series from a list\n",
        "list_datas = [10, 20, 30, 40]\n",
        "list_series = pd.Series(list_datas, index=['G', 'E', 'O', 'N',])\n",
        "print(\"Series from list:\\n\", list_series)"
      ]
    },
    {
      "cell_type": "code",
      "execution_count": 18,
      "metadata": {
        "colab": {
          "base_uri": "https://localhost:8080/"
        },
        "id": "t5g8J-cu6FV3",
        "outputId": "f25f9508-7ca7-4cbc-937b-0ddadee1069e"
      },
      "outputs": [
        {
          "output_type": "stream",
          "name": "stdout",
          "text": [
            "Element at index 'a': 10\n",
            "Elements at indices 'b' and 'd':\n",
            " E    20\n",
            "N    40\n",
            "dtype: int64\n"
          ]
        }
      ],
      "source": [
        "# Extracting elements from the series\n",
        "print(\"Element at index 'a':\", list_series['G'])\n",
        "print(\"Elements at indices 'b' and 'd':\\n\", list_series[['E', 'N']])"
      ]
    },
    {
      "cell_type": "code",
      "execution_count": 19,
      "metadata": {
        "colab": {
          "base_uri": "https://localhost:8080/"
        },
        "id": "3llf9bun_wwo",
        "outputId": "208ea2c9-1123-4ff2-b922-b241403717d0"
      },
      "outputs": [
        {
          "output_type": "stream",
          "name": "stdout",
          "text": [
            "Series from dict:\n",
            " L    10\n",
            "O    20\n",
            "G    30\n",
            "I    40\n",
            "X    50\n",
            "dtype: int64\n"
          ]
        }
      ],
      "source": [
        "# Creating series from a dictionary\n",
        "dict_data = {'L': 10, 'O': 20, 'G': 30, 'I': 40, 'X': 50}\n",
        "dict_series = pd.Series(dict_data)\n",
        "print(\"Series from dict:\\n\", dict_series)"
      ]
    },
    {
      "cell_type": "code",
      "execution_count": 20,
      "metadata": {
        "colab": {
          "base_uri": "https://localhost:8080/"
        },
        "id": "ZtUZknDV_w8-",
        "outputId": "1cc88e68-3d6d-4fea-c315-72dbf91d28f0"
      },
      "outputs": [
        {
          "output_type": "stream",
          "name": "stdout",
          "text": [
            "Original Array: [1 2 3 4 5]\n"
          ]
        }
      ],
      "source": [
        "# Original array\n",
        "original_array = np.array([1, 2, 3, 4, 5])\n",
        "print(\"Original Array:\", original_array)"
      ]
    },
    {
      "cell_type": "code",
      "execution_count": 21,
      "metadata": {
        "colab": {
          "base_uri": "https://localhost:8080/"
        },
        "id": "V0gdNlOfAHaa",
        "outputId": "602a892a-bc8d-4cc4-861a-4560a712a376"
      },
      "outputs": [
        {
          "output_type": "stream",
          "name": "stdout",
          "text": [
            "Array after adding a value: [1 2 3 4 5 6]\n"
          ]
        }
      ],
      "source": [
        "# Adding a value\n",
        "new_array = np.append(original_array, 6)\n",
        "print(\"Array after adding a value:\", new_array)"
      ]
    },
    {
      "cell_type": "code",
      "execution_count": 22,
      "metadata": {
        "colab": {
          "base_uri": "https://localhost:8080/"
        },
        "id": "04q9PmOcANId",
        "outputId": "03f9d063-19e8-43f3-a598-115dc410ef0b"
      },
      "outputs": [
        {
          "output_type": "stream",
          "name": "stdout",
          "text": [
            "Sum of two series:\n",
            " 0    11\n",
            "1    22\n",
            "2    33\n",
            "3    44\n",
            "4    55\n",
            "dtype: int64\n"
          ]
        }
      ],
      "source": [
        "# Adding two series\n",
        "series1 = pd.Series([1, 2, 3, 4, 5])\n",
        "series2 = pd.Series([10, 20, 30, 40, 50])\n",
        "sum = series1 + series2\n",
        "print(\"Sum of two series:\\n\", sum)"
      ]
    },
    {
      "cell_type": "code",
      "execution_count": 23,
      "metadata": {
        "colab": {
          "base_uri": "https://localhost:8080/"
        },
        "id": "-mEt7PWfANLU",
        "outputId": "78b1eddf-a46e-4888-896b-897243f15ad6"
      },
      "outputs": [
        {
          "output_type": "stream",
          "name": "stdout",
          "text": [
            "     PassengerId  Survived  Pclass  \\\n",
            "0              1         0       3   \n",
            "1              2         1       1   \n",
            "2              3         1       3   \n",
            "3              4         1       1   \n",
            "4              5         0       3   \n",
            "..           ...       ...     ...   \n",
            "886          887         0       2   \n",
            "887          888         1       1   \n",
            "888          889         0       3   \n",
            "889          890         1       1   \n",
            "890          891         0       3   \n",
            "\n",
            "                                                  Name     Sex   Age  SibSp  \\\n",
            "0                              Braund, Mr. Owen Harris    male  22.0      1   \n",
            "1    Cumings, Mrs. John Bradley (Florence Briggs Th...  female  38.0      1   \n",
            "2                               Heikkinen, Miss. Laina  female  26.0      0   \n",
            "3         Futrelle, Mrs. Jacques Heath (Lily May Peel)  female  35.0      1   \n",
            "4                             Allen, Mr. William Henry    male  35.0      0   \n",
            "..                                                 ...     ...   ...    ...   \n",
            "886                              Montvila, Rev. Juozas    male  27.0      0   \n",
            "887                       Graham, Miss. Margaret Edith  female  19.0      0   \n",
            "888           Johnston, Miss. Catherine Helen \"Carrie\"  female   NaN      1   \n",
            "889                              Behr, Mr. Karl Howell    male  26.0      0   \n",
            "890                                Dooley, Mr. Patrick    male  32.0      0   \n",
            "\n",
            "     Parch            Ticket     Fare Cabin Embarked  \n",
            "0        0         A/5 21171   7.2500   NaN        S  \n",
            "1        0          PC 17599  71.2833   C85        C  \n",
            "2        0  STON/O2. 3101282   7.9250   NaN        S  \n",
            "3        0            113803  53.1000  C123        S  \n",
            "4        0            373450   8.0500   NaN        S  \n",
            "..     ...               ...      ...   ...      ...  \n",
            "886      0            211536  13.0000   NaN        S  \n",
            "887      0            112053  30.0000   B42        S  \n",
            "888      2        W./C. 6607  23.4500   NaN        S  \n",
            "889      0            111369  30.0000  C148        C  \n",
            "890      0            370376   7.7500   NaN        Q  \n",
            "\n",
            "[891 rows x 12 columns]\n"
          ]
        }
      ],
      "source": [
        "# Create DataFrame from a dictionary\n",
        "data = pd.read_csv(\"/content/Titanic-Dataset.csv\")\n",
        "df = pd.DataFrame(data)\n",
        "print(df)"
      ]
    },
    {
      "cell_type": "code",
      "execution_count": 24,
      "metadata": {
        "colab": {
          "base_uri": "https://localhost:8080/"
        },
        "id": "qsYUk-GNANO2",
        "outputId": "08597099-1531-460b-84d0-c0211d2fd233"
      },
      "outputs": [
        {
          "output_type": "stream",
          "name": "stdout",
          "text": [
            "Head of the DataFrame:\n",
            "   PassengerId  Survived  Pclass  \\\n",
            "0            1         0       3   \n",
            "1            2         1       1   \n",
            "2            3         1       3   \n",
            "3            4         1       1   \n",
            "4            5         0       3   \n",
            "\n",
            "                                                Name     Sex   Age  SibSp  \\\n",
            "0                            Braund, Mr. Owen Harris    male  22.0      1   \n",
            "1  Cumings, Mrs. John Bradley (Florence Briggs Th...  female  38.0      1   \n",
            "2                             Heikkinen, Miss. Laina  female  26.0      0   \n",
            "3       Futrelle, Mrs. Jacques Heath (Lily May Peel)  female  35.0      1   \n",
            "4                           Allen, Mr. William Henry    male  35.0      0   \n",
            "\n",
            "   Parch            Ticket     Fare Cabin Embarked  \n",
            "0      0         A/5 21171   7.2500   NaN        S  \n",
            "1      0          PC 17599  71.2833   C85        C  \n",
            "2      0  STON/O2. 3101282   7.9250   NaN        S  \n",
            "3      0            113803  53.1000  C123        S  \n",
            "4      0            373450   8.0500   NaN        S  \n"
          ]
        }
      ],
      "source": [
        "# Print the head of the DataFrame\n",
        "print(\"Head of the DataFrame:\")\n",
        "print(df.head())"
      ]
    },
    {
      "cell_type": "code",
      "execution_count": 25,
      "metadata": {
        "colab": {
          "base_uri": "https://localhost:8080/"
        },
        "id": "F0x2l8rY9F6o",
        "outputId": "91ec7a60-27a9-4772-ca42-97dc9d46587c"
      },
      "outputs": [
        {
          "output_type": "stream",
          "name": "stdout",
          "text": [
            "\n",
            "Tail of the DataFrame:\n",
            "     PassengerId  Survived  Pclass                                      Name  \\\n",
            "886          887         0       2                     Montvila, Rev. Juozas   \n",
            "887          888         1       1              Graham, Miss. Margaret Edith   \n",
            "888          889         0       3  Johnston, Miss. Catherine Helen \"Carrie\"   \n",
            "889          890         1       1                     Behr, Mr. Karl Howell   \n",
            "890          891         0       3                       Dooley, Mr. Patrick   \n",
            "\n",
            "        Sex   Age  SibSp  Parch      Ticket   Fare Cabin Embarked  \n",
            "886    male  27.0      0      0      211536  13.00   NaN        S  \n",
            "887  female  19.0      0      0      112053  30.00   B42        S  \n",
            "888  female   NaN      1      2  W./C. 6607  23.45   NaN        S  \n",
            "889    male  26.0      0      0      111369  30.00  C148        C  \n",
            "890    male  32.0      0      0      370376   7.75   NaN        Q  \n"
          ]
        }
      ],
      "source": [
        "# Print the tail of the DataFrame\n",
        "print(\"\\nTail of the DataFrame:\")\n",
        "print(df.tail())"
      ]
    },
    {
      "cell_type": "code",
      "execution_count": 27,
      "metadata": {
        "colab": {
          "base_uri": "https://localhost:8080/"
        },
        "id": "HZ-Cz4Ua9F-E",
        "outputId": "69f2e599-b3de-427a-f776-9da574a3cbd5"
      },
      "outputs": [
        {
          "output_type": "stream",
          "name": "stdout",
          "text": [
            "\n",
            "Shape of the DataFrame:\n",
            "(891, 12)\n"
          ]
        }
      ],
      "source": [
        "# Print the shape of the DataFrame\n",
        "print(\"\\nShape of the DataFrame:\")\n",
        "print(df.shape)"
      ]
    },
    {
      "cell_type": "code",
      "execution_count": 28,
      "metadata": {
        "colab": {
          "base_uri": "https://localhost:8080/"
        },
        "id": "dmVnzKdA9QcE",
        "outputId": "1cb1bd11-d5fa-4ed8-a0cd-44e08ea3e688"
      },
      "outputs": [
        {
          "output_type": "stream",
          "name": "stdout",
          "text": [
            "\n",
            "Describe the DataFrame:\n",
            "        PassengerId    Survived      Pclass                     Name   Sex  \\\n",
            "count    891.000000  891.000000  891.000000                      891   891   \n",
            "unique          NaN         NaN         NaN                      891     2   \n",
            "top             NaN         NaN         NaN  Braund, Mr. Owen Harris  male   \n",
            "freq            NaN         NaN         NaN                        1   577   \n",
            "mean     446.000000    0.383838    2.308642                      NaN   NaN   \n",
            "std      257.353842    0.486592    0.836071                      NaN   NaN   \n",
            "min        1.000000    0.000000    1.000000                      NaN   NaN   \n",
            "25%      223.500000    0.000000    2.000000                      NaN   NaN   \n",
            "50%      446.000000    0.000000    3.000000                      NaN   NaN   \n",
            "75%      668.500000    1.000000    3.000000                      NaN   NaN   \n",
            "max      891.000000    1.000000    3.000000                      NaN   NaN   \n",
            "\n",
            "               Age       SibSp       Parch  Ticket        Fare    Cabin  \\\n",
            "count   714.000000  891.000000  891.000000     891  891.000000      204   \n",
            "unique         NaN         NaN         NaN     681         NaN      147   \n",
            "top            NaN         NaN         NaN  347082         NaN  B96 B98   \n",
            "freq           NaN         NaN         NaN       7         NaN        4   \n",
            "mean     29.699118    0.523008    0.381594     NaN   32.204208      NaN   \n",
            "std      14.526497    1.102743    0.806057     NaN   49.693429      NaN   \n",
            "min       0.420000    0.000000    0.000000     NaN    0.000000      NaN   \n",
            "25%      20.125000    0.000000    0.000000     NaN    7.910400      NaN   \n",
            "50%      28.000000    0.000000    0.000000     NaN   14.454200      NaN   \n",
            "75%      38.000000    1.000000    0.000000     NaN   31.000000      NaN   \n",
            "max      80.000000    8.000000    6.000000     NaN  512.329200      NaN   \n",
            "\n",
            "       Embarked  \n",
            "count       889  \n",
            "unique        3  \n",
            "top           S  \n",
            "freq        644  \n",
            "mean        NaN  \n",
            "std         NaN  \n",
            "min         NaN  \n",
            "25%         NaN  \n",
            "50%         NaN  \n",
            "75%         NaN  \n",
            "max         NaN  \n"
          ]
        }
      ],
      "source": [
        "# Describe the DataFrame\n",
        "print(\"\\nDescribe the DataFrame:\")\n",
        "print(df.describe(include='all'))"
      ]
    },
    {
      "cell_type": "code",
      "execution_count": 26,
      "metadata": {
        "colab": {
          "base_uri": "https://localhost:8080/"
        },
        "id": "RiRhBrb39Qff",
        "outputId": "d2e98d5e-d6bf-4cfa-9c9f-4774cc9727d3"
      },
      "outputs": [
        {
          "output_type": "stream",
          "name": "stdout",
          "text": [
            "Filtered DataFrame using loc:\n",
            "     PassengerId  Survived  Pclass  \\\n",
            "1              2         1       1   \n",
            "3              4         1       1   \n",
            "11            12         1       1   \n",
            "23            24         1       1   \n",
            "31            32         1       1   \n",
            "..           ...       ...     ...   \n",
            "862          863         1       1   \n",
            "871          872         1       1   \n",
            "879          880         1       1   \n",
            "887          888         1       1   \n",
            "889          890         1       1   \n",
            "\n",
            "                                                  Name     Sex   Age  SibSp  \\\n",
            "1    Cumings, Mrs. John Bradley (Florence Briggs Th...  female  38.0      1   \n",
            "3         Futrelle, Mrs. Jacques Heath (Lily May Peel)  female  35.0      1   \n",
            "11                            Bonnell, Miss. Elizabeth  female  58.0      0   \n",
            "23                        Sloper, Mr. William Thompson    male  28.0      0   \n",
            "31      Spencer, Mrs. William Augustus (Marie Eugenie)  female   NaN      1   \n",
            "..                                                 ...     ...   ...    ...   \n",
            "862  Swift, Mrs. Frederick Joel (Margaret Welles Ba...  female  48.0      0   \n",
            "871   Beckwith, Mrs. Richard Leonard (Sallie Monypeny)  female  47.0      1   \n",
            "879      Potter, Mrs. Thomas Jr (Lily Alexenia Wilson)  female  56.0      0   \n",
            "887                       Graham, Miss. Margaret Edith  female  19.0      0   \n",
            "889                              Behr, Mr. Karl Howell    male  26.0      0   \n",
            "\n",
            "     Parch    Ticket      Fare Cabin Embarked  \n",
            "1        0  PC 17599   71.2833   C85        C  \n",
            "3        0    113803   53.1000  C123        S  \n",
            "11       0    113783   26.5500  C103        S  \n",
            "23       0    113788   35.5000    A6        S  \n",
            "31       0  PC 17569  146.5208   B78        C  \n",
            "..     ...       ...       ...   ...      ...  \n",
            "862      0     17466   25.9292   D17        S  \n",
            "871      1     11751   52.5542   D35        S  \n",
            "879      1     11767   83.1583   C50        C  \n",
            "887      0    112053   30.0000   B42        S  \n",
            "889      0    111369   30.0000  C148        C  \n",
            "\n",
            "[136 rows x 12 columns]\n"
          ]
        }
      ],
      "source": [
        "# Filter using loc: selecting rows where 'Survived' is 1 and 'Pclass' is 1\n",
        "loc_filtered_df = df.loc[(df['Survived'] == 1) & (df['Pclass'] == 1)]\n",
        "print(\"Filtered DataFrame using loc:\")\n",
        "print(loc_filtered_df)"
      ]
    },
    {
      "cell_type": "code",
      "execution_count": 29,
      "metadata": {
        "colab": {
          "base_uri": "https://localhost:8080/"
        },
        "id": "FmIJVqQV9uwz",
        "outputId": "1448bfb8-410f-48e4-8b87-d508b688f02b"
      },
      "outputs": [
        {
          "output_type": "stream",
          "name": "stdout",
          "text": [
            "\n",
            "Filtered DataFrame using iloc:\n",
            "   PassengerId  Survived  Pclass\n",
            "0            1         0       3\n",
            "1            2         1       1\n",
            "2            3         1       3\n",
            "3            4         1       1\n",
            "4            5         0       3\n"
          ]
        }
      ],
      "source": [
        "# Filter using iloc: selecting the first 5 rows and first 3 columns\n",
        "iloc_filtered_df = df.iloc[:5, :3]\n",
        "print(\"\\nFiltered DataFrame using iloc:\")\n",
        "print(iloc_filtered_df)"
      ]
    },
    {
      "cell_type": "code",
      "execution_count": 30,
      "metadata": {
        "colab": {
          "base_uri": "https://localhost:8080/"
        },
        "id": "17HfBTb296pf",
        "outputId": "22d6eb5a-305a-4c33-a63d-4ec4749723be"
      },
      "outputs": [
        {
          "output_type": "stream",
          "name": "stdout",
          "text": [
            "\n",
            "DataFrame after dropping the first row:\n",
            "     PassengerId  Survived  Pclass  \\\n",
            "1              2         1       1   \n",
            "2              3         1       3   \n",
            "3              4         1       1   \n",
            "4              5         0       3   \n",
            "5              6         0       3   \n",
            "..           ...       ...     ...   \n",
            "886          887         0       2   \n",
            "887          888         1       1   \n",
            "888          889         0       3   \n",
            "889          890         1       1   \n",
            "890          891         0       3   \n",
            "\n",
            "                                                  Name     Sex   Age  SibSp  \\\n",
            "1    Cumings, Mrs. John Bradley (Florence Briggs Th...  female  38.0      1   \n",
            "2                               Heikkinen, Miss. Laina  female  26.0      0   \n",
            "3         Futrelle, Mrs. Jacques Heath (Lily May Peel)  female  35.0      1   \n",
            "4                             Allen, Mr. William Henry    male  35.0      0   \n",
            "5                                     Moran, Mr. James    male   NaN      0   \n",
            "..                                                 ...     ...   ...    ...   \n",
            "886                              Montvila, Rev. Juozas    male  27.0      0   \n",
            "887                       Graham, Miss. Margaret Edith  female  19.0      0   \n",
            "888           Johnston, Miss. Catherine Helen \"Carrie\"  female   NaN      1   \n",
            "889                              Behr, Mr. Karl Howell    male  26.0      0   \n",
            "890                                Dooley, Mr. Patrick    male  32.0      0   \n",
            "\n",
            "     Parch            Ticket     Fare Cabin Embarked  \n",
            "1        0          PC 17599  71.2833   C85        C  \n",
            "2        0  STON/O2. 3101282   7.9250   NaN        S  \n",
            "3        0            113803  53.1000  C123        S  \n",
            "4        0            373450   8.0500   NaN        S  \n",
            "5        0            330877   8.4583   NaN        Q  \n",
            "..     ...               ...      ...   ...      ...  \n",
            "886      0            211536  13.0000   NaN        S  \n",
            "887      0            112053  30.0000   B42        S  \n",
            "888      2        W./C. 6607  23.4500   NaN        S  \n",
            "889      0            111369  30.0000  C148        C  \n",
            "890      0            370376   7.7500   NaN        Q  \n",
            "\n",
            "[890 rows x 12 columns]\n"
          ]
        }
      ],
      "source": [
        "# Drop a row by index\n",
        "df_dropped_row = df.drop(0)\n",
        "print(\"\\nDataFrame after dropping the first row:\")\n",
        "print(df_dropped_row)"
      ]
    },
    {
      "cell_type": "code",
      "execution_count": 31,
      "metadata": {
        "colab": {
          "base_uri": "https://localhost:8080/"
        },
        "id": "9XIobTXb96tV",
        "outputId": "1be96333-c9e6-4c77-ccc3-4fd5ec041778"
      },
      "outputs": [
        {
          "output_type": "stream",
          "name": "stdout",
          "text": [
            "\n",
            "DataFrame after dropping the 'Cabin' column:\n",
            "     PassengerId  Survived  Pclass  \\\n",
            "0              1         0       3   \n",
            "1              2         1       1   \n",
            "2              3         1       3   \n",
            "3              4         1       1   \n",
            "4              5         0       3   \n",
            "..           ...       ...     ...   \n",
            "886          887         0       2   \n",
            "887          888         1       1   \n",
            "888          889         0       3   \n",
            "889          890         1       1   \n",
            "890          891         0       3   \n",
            "\n",
            "                                                  Name     Sex   Age  SibSp  \\\n",
            "0                              Braund, Mr. Owen Harris    male  22.0      1   \n",
            "1    Cumings, Mrs. John Bradley (Florence Briggs Th...  female  38.0      1   \n",
            "2                               Heikkinen, Miss. Laina  female  26.0      0   \n",
            "3         Futrelle, Mrs. Jacques Heath (Lily May Peel)  female  35.0      1   \n",
            "4                             Allen, Mr. William Henry    male  35.0      0   \n",
            "..                                                 ...     ...   ...    ...   \n",
            "886                              Montvila, Rev. Juozas    male  27.0      0   \n",
            "887                       Graham, Miss. Margaret Edith  female  19.0      0   \n",
            "888           Johnston, Miss. Catherine Helen \"Carrie\"  female   NaN      1   \n",
            "889                              Behr, Mr. Karl Howell    male  26.0      0   \n",
            "890                                Dooley, Mr. Patrick    male  32.0      0   \n",
            "\n",
            "     Parch            Ticket     Fare Embarked  \n",
            "0        0         A/5 21171   7.2500        S  \n",
            "1        0          PC 17599  71.2833        C  \n",
            "2        0  STON/O2. 3101282   7.9250        S  \n",
            "3        0            113803  53.1000        S  \n",
            "4        0            373450   8.0500        S  \n",
            "..     ...               ...      ...      ...  \n",
            "886      0            211536  13.0000        S  \n",
            "887      0            112053  30.0000        S  \n",
            "888      2        W./C. 6607  23.4500        S  \n",
            "889      0            111369  30.0000        C  \n",
            "890      0            370376   7.7500        Q  \n",
            "\n",
            "[891 rows x 11 columns]\n"
          ]
        }
      ],
      "source": [
        "# Dropping the 'Cabin' column\n",
        "df_dropped_column = df.drop('Cabin', axis=1)\n",
        "print(\"\\nDataFrame after dropping the 'Cabin' column:\")\n",
        "print(df_dropped_column)"
      ]
    },
    {
      "cell_type": "code",
      "execution_count": 32,
      "metadata": {
        "colab": {
          "base_uri": "https://localhost:8080/"
        },
        "id": "_QZg_GCu96wv",
        "outputId": "890ed7c1-3945-46e4-9a6b-07904dc5136c"
      },
      "outputs": [
        {
          "output_type": "stream",
          "name": "stdout",
          "text": [
            "\n",
            "Mean of all numeric columns:\n",
            "PassengerId    446.000000\n",
            "Survived         0.383838\n",
            "Pclass           2.308642\n",
            "Age             29.699118\n",
            "SibSp            0.523008\n",
            "Parch            0.381594\n",
            "Fare            32.204208\n",
            "dtype: float64\n"
          ]
        }
      ],
      "source": [
        "# Calculating mean of all numeric columns\n",
        "mean_value = df.mean(numeric_only=True)\n",
        "print(\"\\nMean of all numeric columns:\")\n",
        "print(mean_value)"
      ]
    },
    {
      "cell_type": "code",
      "execution_count": 33,
      "metadata": {
        "colab": {
          "base_uri": "https://localhost:8080/"
        },
        "id": "4LlD1_Na-VlS",
        "outputId": "b73910d1-69b7-44cc-ada0-ca4a260e4f1c"
      },
      "outputs": [
        {
          "output_type": "stream",
          "name": "stdout",
          "text": [
            "\n",
            "Median of all numeric columns:\n",
            "PassengerId    446.0000\n",
            "Survived         0.0000\n",
            "Pclass           3.0000\n",
            "Age             28.0000\n",
            "SibSp            0.0000\n",
            "Parch            0.0000\n",
            "Fare            14.4542\n",
            "dtype: float64\n"
          ]
        }
      ],
      "source": [
        "# Calculating median of all numeric columns\n",
        "median_value = df.median(numeric_only=True)\n",
        "print(\"\\nMedian of all numeric columns:\")\n",
        "print(median_value)"
      ]
    },
    {
      "cell_type": "code",
      "execution_count": 34,
      "metadata": {
        "colab": {
          "base_uri": "https://localhost:8080/"
        },
        "id": "_wostpuQ-Vor",
        "outputId": "b689fc24-088a-49d8-9da8-b09ac1dc0ffe"
      },
      "outputs": [
        {
          "output_type": "stream",
          "name": "stdout",
          "text": [
            "\n",
            "Standard Deviation of all numeric columns:\n",
            "PassengerId    257.353842\n",
            "Survived         0.486592\n",
            "Pclass           0.836071\n",
            "Age             14.526497\n",
            "SibSp            1.102743\n",
            "Parch            0.806057\n",
            "Fare            49.693429\n",
            "dtype: float64\n"
          ]
        }
      ],
      "source": [
        "# Calculating standard deviation of all numeric columns\n",
        "std_values = df.std(numeric_only=True)\n",
        "print(\"\\nStandard Deviation of all numeric columns:\")\n",
        "print(std_values)"
      ]
    },
    {
      "cell_type": "code",
      "execution_count": 35,
      "metadata": {
        "colab": {
          "base_uri": "https://localhost:8080/"
        },
        "id": "m3z7ROYR-qxC",
        "outputId": "64851eed-e6b9-4f20-ecc3-3bd205e4fbe5"
      },
      "outputs": [
        {
          "output_type": "stream",
          "name": "stdout",
          "text": [
            "\n",
            "DataFrame sorted by 'Fare' in ascending order:\n",
            "     PassengerId  Survived  Pclass                                Name  \\\n",
            "271          272         1       3        Tornquist, Mr. William Henry   \n",
            "597          598         0       3                 Johnson, Mr. Alfred   \n",
            "302          303         0       3     Johnson, Mr. William Cahoone Jr   \n",
            "633          634         0       1       Parr, Mr. William Henry Marsh   \n",
            "277          278         0       2         Parkes, Mr. Francis \"Frank\"   \n",
            "..           ...       ...     ...                                 ...   \n",
            "438          439         0       1                   Fortune, Mr. Mark   \n",
            "341          342         1       1      Fortune, Miss. Alice Elizabeth   \n",
            "737          738         1       1              Lesurer, Mr. Gustave J   \n",
            "258          259         1       1                    Ward, Miss. Anna   \n",
            "679          680         1       1  Cardeza, Mr. Thomas Drake Martinez   \n",
            "\n",
            "        Sex   Age  SibSp  Parch    Ticket      Fare        Cabin Embarked  \n",
            "271    male  25.0      0      0      LINE    0.0000          NaN        S  \n",
            "597    male  49.0      0      0      LINE    0.0000          NaN        S  \n",
            "302    male  19.0      0      0      LINE    0.0000          NaN        S  \n",
            "633    male   NaN      0      0    112052    0.0000          NaN        S  \n",
            "277    male   NaN      0      0    239853    0.0000          NaN        S  \n",
            "..      ...   ...    ...    ...       ...       ...          ...      ...  \n",
            "438    male  64.0      1      4     19950  263.0000  C23 C25 C27        S  \n",
            "341  female  24.0      3      2     19950  263.0000  C23 C25 C27        S  \n",
            "737    male  35.0      0      0  PC 17755  512.3292         B101        C  \n",
            "258  female  35.0      0      0  PC 17755  512.3292          NaN        C  \n",
            "679    male  36.0      0      1  PC 17755  512.3292  B51 B53 B55        C  \n",
            "\n",
            "[891 rows x 12 columns]\n"
          ]
        }
      ],
      "source": [
        "# Sort the DataFrame by the 'Fare' column\n",
        "sorted_df = df.sort_values(by='Fare')\n",
        "print(\"\\nDataFrame sorted by 'Fare' in ascending order:\")\n",
        "print(sorted_df)"
      ]
    },
    {
      "cell_type": "code",
      "execution_count": 36,
      "metadata": {
        "colab": {
          "base_uri": "https://localhost:8080/"
        },
        "id": "f7RXXgVG-qzb",
        "outputId": "44a68648-597b-4a08-bbcd-f0edcecf911f"
      },
      "outputs": [
        {
          "output_type": "stream",
          "name": "stdout",
          "text": [
            "\n",
            "DataFrame after dropping rows with any NaN values:\n",
            "     PassengerId  Survived  Pclass  \\\n",
            "1              2         1       1   \n",
            "3              4         1       1   \n",
            "6              7         0       1   \n",
            "10            11         1       3   \n",
            "11            12         1       1   \n",
            "..           ...       ...     ...   \n",
            "871          872         1       1   \n",
            "872          873         0       1   \n",
            "879          880         1       1   \n",
            "887          888         1       1   \n",
            "889          890         1       1   \n",
            "\n",
            "                                                  Name     Sex   Age  SibSp  \\\n",
            "1    Cumings, Mrs. John Bradley (Florence Briggs Th...  female  38.0      1   \n",
            "3         Futrelle, Mrs. Jacques Heath (Lily May Peel)  female  35.0      1   \n",
            "6                              McCarthy, Mr. Timothy J    male  54.0      0   \n",
            "10                     Sandstrom, Miss. Marguerite Rut  female   4.0      1   \n",
            "11                            Bonnell, Miss. Elizabeth  female  58.0      0   \n",
            "..                                                 ...     ...   ...    ...   \n",
            "871   Beckwith, Mrs. Richard Leonard (Sallie Monypeny)  female  47.0      1   \n",
            "872                           Carlsson, Mr. Frans Olof    male  33.0      0   \n",
            "879      Potter, Mrs. Thomas Jr (Lily Alexenia Wilson)  female  56.0      0   \n",
            "887                       Graham, Miss. Margaret Edith  female  19.0      0   \n",
            "889                              Behr, Mr. Karl Howell    male  26.0      0   \n",
            "\n",
            "     Parch    Ticket     Fare        Cabin Embarked  \n",
            "1        0  PC 17599  71.2833          C85        C  \n",
            "3        0    113803  53.1000         C123        S  \n",
            "6        0     17463  51.8625          E46        S  \n",
            "10       1   PP 9549  16.7000           G6        S  \n",
            "11       0    113783  26.5500         C103        S  \n",
            "..     ...       ...      ...          ...      ...  \n",
            "871      1     11751  52.5542          D35        S  \n",
            "872      0       695   5.0000  B51 B53 B55        S  \n",
            "879      1     11767  83.1583          C50        C  \n",
            "887      0    112053  30.0000          B42        S  \n",
            "889      0    111369  30.0000         C148        C  \n",
            "\n",
            "[183 rows x 12 columns]\n"
          ]
        }
      ],
      "source": [
        "#Clean NaN Values in a DataFrame by Dropping the Rows\n",
        "df_drop = df.dropna()\n",
        "print(\"\\nDataFrame after dropping rows with any NaN values:\")\n",
        "print(df_drop)"
      ]
    },
    {
      "cell_type": "code",
      "execution_count": 37,
      "metadata": {
        "colab": {
          "base_uri": "https://localhost:8080/"
        },
        "id": "PooIQGfe-q24",
        "outputId": "03da0e79-6fe0-40e4-c71b-67bf52366834"
      },
      "outputs": [
        {
          "output_type": "stream",
          "name": "stdout",
          "text": [
            "\n",
            "DataFrame after filling NaN values in 'Age' column with the mean:\n",
            "     PassengerId  Survived  Pclass  \\\n",
            "0              1         0       3   \n",
            "1              2         1       1   \n",
            "2              3         1       3   \n",
            "3              4         1       1   \n",
            "4              5         0       3   \n",
            "..           ...       ...     ...   \n",
            "886          887         0       2   \n",
            "887          888         1       1   \n",
            "888          889         0       3   \n",
            "889          890         1       1   \n",
            "890          891         0       3   \n",
            "\n",
            "                                                  Name     Sex        Age  \\\n",
            "0                              Braund, Mr. Owen Harris    male  22.000000   \n",
            "1    Cumings, Mrs. John Bradley (Florence Briggs Th...  female  38.000000   \n",
            "2                               Heikkinen, Miss. Laina  female  26.000000   \n",
            "3         Futrelle, Mrs. Jacques Heath (Lily May Peel)  female  35.000000   \n",
            "4                             Allen, Mr. William Henry    male  35.000000   \n",
            "..                                                 ...     ...        ...   \n",
            "886                              Montvila, Rev. Juozas    male  27.000000   \n",
            "887                       Graham, Miss. Margaret Edith  female  19.000000   \n",
            "888           Johnston, Miss. Catherine Helen \"Carrie\"  female  29.699118   \n",
            "889                              Behr, Mr. Karl Howell    male  26.000000   \n",
            "890                                Dooley, Mr. Patrick    male  32.000000   \n",
            "\n",
            "     SibSp  Parch            Ticket     Fare Cabin Embarked  \n",
            "0        1      0         A/5 21171   7.2500   NaN        S  \n",
            "1        1      0          PC 17599  71.2833   C85        C  \n",
            "2        0      0  STON/O2. 3101282   7.9250   NaN        S  \n",
            "3        1      0            113803  53.1000  C123        S  \n",
            "4        0      0            373450   8.0500   NaN        S  \n",
            "..     ...    ...               ...      ...   ...      ...  \n",
            "886      0      0            211536  13.0000   NaN        S  \n",
            "887      0      0            112053  30.0000   B42        S  \n",
            "888      1      2        W./C. 6607  23.4500   NaN        S  \n",
            "889      0      0            111369  30.0000  C148        C  \n",
            "890      0      0            370376   7.7500   NaN        Q  \n",
            "\n",
            "[891 rows x 12 columns]\n"
          ]
        }
      ],
      "source": [
        "# Fill NaN values in the 'Age' column using the mean of the 'Age' column\n",
        "mean_age = df['Age'].mean()\n",
        "filled_na = df.copy()\n",
        "\n",
        "filled_na['Age'].fillna(mean_age, inplace=True)\n",
        "print(\"\\nDataFrame after filling NaN values in 'Age' column with the mean:\")\n",
        "print(filled_na)"
      ]
    },
    {
      "cell_type": "markdown",
      "metadata": {
        "id": "bi8cda7EIan6"
      },
      "source": [
        "MATPLOTLIB"
      ]
    },
    {
      "cell_type": "code",
      "execution_count": 38,
      "metadata": {
        "id": "G48HldG1_cy_"
      },
      "outputs": [],
      "source": [
        "import matplotlib.pyplot as plt"
      ]
    },
    {
      "cell_type": "code",
      "execution_count": 39,
      "metadata": {
        "colab": {
          "base_uri": "https://localhost:8080/",
          "height": 422
        },
        "id": "faAo5PPY_c1p",
        "outputId": "fc2fa355-4460-4878-be4a-a4213e9d3c79"
      },
      "outputs": [
        {
          "output_type": "display_data",
          "data": {
            "text/plain": [
              "<Figure size 1000x600 with 1 Axes>"
            ],
            "image/png": "[encoded data removed]"
          },
          "metadata": {}
        }
      ],
      "source": [
        "#LinePlot\n",
        "plt.figure(figsize=(10, 6))\n",
        "plt.plot(df['PassengerId'], df['Fare'], label='Fare')\n",
        "plt.title('Line Plot of Passenger Fares')\n",
        "plt.xlabel('Passenger ID')\n",
        "plt.ylabel('Fare')\n",
        "plt.legend()\n",
        "plt.show()"
      ]
    },
    {
      "cell_type": "code",
      "execution_count": 40,
      "metadata": {
        "colab": {
          "base_uri": "https://localhost:8080/",
          "height": 422
        },
        "id": "YNVcgyld_c5N",
        "outputId": "468e272f-61da-4fd2-bbed-a5ee762e7fee"
      },
      "outputs": [
        {
          "output_type": "display_data",
          "data": {
            "text/plain": [
              "<Figure size 1000x600 with 1 Axes>"
            ],
            "image/png": "[encoded data removed]"
          },
          "metadata": {}
        }
      ],
      "source": [
        "#Adding title, label and legends\n",
        "plt.figure(figsize=(10, 6))\n",
        "plt.plot(df['PassengerId'], df['Fare'], label='Fare')\n",
        "plt.title('Line Plot of Passenger Fares')\n",
        "plt.xlabel('Passenger ID')\n",
        "plt.ylabel('Fare')\n",
        "plt.legend()\n",
        "plt.show()"
      ]
    },
    {
      "cell_type": "code",
      "execution_count": 41,
      "metadata": {
        "colab": {
          "base_uri": "https://localhost:8080/",
          "height": 34
        },
        "id": "c1vDXPvjI97l",
        "outputId": "df33c258-b032-4ac4-b960-59986e89cdf4"
      },
      "outputs": [
        {
          "output_type": "display_data",
          "data": {
            "text/plain": [
              "<Figure size 1400x1000 with 0 Axes>"
            ]
          },
          "metadata": {}
        }
      ],
      "source": [
        "#Subplots using add_subplot\n",
        "fig = plt.figure(figsize=(14, 10))"
      ]
    },
    {
      "cell_type": "code",
      "execution_count": 42,
      "metadata": {
        "id": "9JH9Xi_oI9-C",
        "colab": {
          "base_uri": "https://localhost:8080/"
        },
        "outputId": "8a1de7e9-d3da-45e7-d559-cfd259f3b419"
      },
      "outputs": [
        {
          "output_type": "execute_result",
          "data": {
            "text/plain": [
              "<matplotlib.legend.Legend at 0x78d33b7a15a0>"
            ]
          },
          "metadata": {},
          "execution_count": 42
        }
      ],
      "source": [
        "# Subplot 1: Line plot of fares\n",
        "ax1 = fig.add_subplot(221)\n",
        "ax1.plot(df['PassengerId'], df['Fare'], label='Fare')\n",
        "ax1.set_title('Line Plot of Passenger Fares')\n",
        "ax1.set_xlabel('Passenger ID')\n",
        "ax1.set_ylabel('Fare')\n",
        "ax1.legend()"
      ]
    }
  ],
  "metadata": {
    "colab": {
      "provenance": []
    },
    "kernelspec": {
      "display_name": "Python 3",
      "name": "python3"
    },
    "language_info": {
      "name": "python"
    }
  },
  "nbformat": 4,
  "nbformat_minor": 0
}